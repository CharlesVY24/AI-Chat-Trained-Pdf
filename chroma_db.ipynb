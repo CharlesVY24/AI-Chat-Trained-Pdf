{
 "cells": [
  {
   "cell_type": "code",
   "execution_count": null,
   "id": "c43b28a1",
   "metadata": {},
   "outputs": [],
   "source": [
    "\n",
    "##Cargar los documentos a la base d e datos de chroma\n",
    "import os #Remover las bases de datos de chroma existentes\n",
    "import shutil\n",
    "from langchain_community.vectorstores import Chroma ##tipo de documento que vamos a usar /tipo de base de datos de Chroma\n",
    "from langchain_core.documents import Document\n",
    "\n",
    "CHROMA_PATH = 'chroma'\n",
    "def save_to_chroma_db(chunks: list[Document], embedding_model) -> Chroma:###Con los chunks , vamos a crear embedding y retornar una base de datos chroma\n",
    "\n",
    "    # Remove the existing Chroma database\n",
    "    if os.path.exists(CHROMA_PATH):#Si la ruta existe, la eliminamos\n",
    "        try:\n",
    "            shutil.rmtree(CHROMA_PATH) #Truequeamos la ruta / Borramos la carpeta\n",
    "        except Exception as e:\n",
    "            print(f\"Error removing Chroma database: {e}\")\n",
    "\n",
    "    # Initialize the Chroma database\n",
    "    db = Chroma.from_documents( ##Con los documentos, vamos a crear la base de datos/ los chuncks declarados/ pasar el dierectorio y el embedding model\n",
    "        chunks,\n",
    "        persist_directory=CHROMA_PATH,\n",
    "        embedding=embedding_model\n",
    "    )\n",
    "    # Persist the database\n",
    "    print(f\"Saved chunks to {CHROMA_PATH}\")\n",
    "    return db\n",
    "\n",
    "#Hasta aqui hemos preprocesado los documentos pdf y los hemos guardado en la base de datos de chroma"
   ]
  }
 ],
 "metadata": {
  "kernelspec": {
   "display_name": "venv",
   "language": "python",
   "name": "python3"
  },
  "language_info": {
   "codemirror_mode": {
    "name": "ipython",
    "version": 3
   },
   "file_extension": ".py",
   "mimetype": "text/x-python",
   "name": "python",
   "nbconvert_exporter": "python",
   "pygments_lexer": "ipython3",
   "version": "3.12.7"
  }
 },
 "nbformat": 4,
 "nbformat_minor": 5
}
