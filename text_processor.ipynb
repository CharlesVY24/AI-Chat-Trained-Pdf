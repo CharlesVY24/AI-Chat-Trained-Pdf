{
 "cells": [
  {
   "cell_type": "code",
   "execution_count": 1,
   "id": "1c5aab35",
   "metadata": {},
   "outputs": [
    {
     "name": "stderr",
     "output_type": "stream",
     "text": [
      "<>:6: SyntaxWarning: invalid escape sequence '\\M'\n",
      "<>:6: SyntaxWarning: invalid escape sequence '\\M'\n",
      "C:\\Users\\Carlo\\AppData\\Local\\Temp\\ipykernel_43928\\1889814484.py:6: SyntaxWarning: invalid escape sequence '\\M'\n",
      "  DOCUMENTS_PATH = \"G:\\Mi unidad\\Proyectos\\RAG2\\Home garden.pdf\"\n"
     ]
    }
   ],
   "source": [
    "from langchain_community.document_loaders import PyPDFDirectoryLoader\n",
    "from langchain.text_splitter import RecursiveCharacterTextSplitter\n",
    "from langchain_core.documents import Document\n",
    "\n",
    "# Path to the directory containing the PDF files\n",
    "DOCUMENTS_PATH = \"G:\\Mi unidad\\Proyectos\\RAG2\\Home garden.pdf\"\n",
    "\n",
    "def chunk_pdfs() -> list[Document]:\n",
    "    # Initialize the document loader and load the documents\n",
    "    document_loader = PyPDFDirectoryLoader(DOCUMENTS_PATH)\n",
    "    documents = document_loader.load()\n",
    "\n",
    "    # Initialize the text splitter\n",
    "    text_splitter = RecursiveCharacterTextSplitter(\n",
    "        chunk_size=800, # Size of each chunk in characters\n",
    "        chunk_overlap=100, # Overlap between chunks in characters\n",
    "        length_function=len, # Function to calculate the length of the text\n",
    "        add_start_index=True, # Add start index to the chunks\n",
    "    )\n",
    "\n",
    "    # Split the documents into chunks\n",
    "    chunks = text_splitter.split_documents(documents)\n",
    "\n",
    "    return chunks"
   ]
  }
 ],
 "metadata": {
  "kernelspec": {
   "display_name": "venv",
   "language": "python",
   "name": "python3"
  },
  "language_info": {
   "codemirror_mode": {
    "name": "ipython",
    "version": 3
   },
   "file_extension": ".py",
   "mimetype": "text/x-python",
   "name": "python",
   "nbconvert_exporter": "python",
   "pygments_lexer": "ipython3",
   "version": "3.12.7"
  }
 },
 "nbformat": 4,
 "nbformat_minor": 5
}
